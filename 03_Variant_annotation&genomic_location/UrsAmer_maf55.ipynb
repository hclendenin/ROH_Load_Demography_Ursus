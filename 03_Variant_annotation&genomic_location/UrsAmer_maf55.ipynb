{
 "cells": [
  {
   "cell_type": "code",
   "execution_count": null,
   "metadata": {},
   "outputs": [],
   "source": [
    "#!/bin/bash\n",
    "#SBATCH -N 1 # number of nodes\n",
    "#SBATCH -n 16 # number of cores\n",
    "#SBATCH --mem=48G\n",
    "#SBATCH --job-name=\"cactus_halLiftover\"\n",
    "#SBATCH --mail-type=END\n",
    "#SBATCH --partition=computeq\n",
    "#SBATCH --mail-user=hrclndnn@memphis.edu\n",
    "#SBATCH -a 0-30\n",
    "\n",
    "module load bcftools\n",
    "module load bedtools\n",
    "module load cactus\n",
    "module load htslib\n",
    "\n",
    "\n",
    "#SnpEff annotated vcf: /home/hrclndnn/snpEff/Uamer/Uamer.ann.vcf.gz\n",
    "#formatted ROH bed files: /home/hrclndnn/snpEff/Uamer/liftover/${file}/${file}_ROH.bed\n",
    "\n",
    "\n",
    "files=(AK17023 \n",
    "AK17047 \n",
    "AK17117 \n",
    "AZ12 \n",
    "AK18242\n",
    "ID10 \n",
    "LA366 \n",
    "LA371 \n",
    "LAT594 \n",
    "MI334 \n",
    "MI335 \n",
    "MN6083 \n",
    "MS3783 \n",
    "NC00417 \n",
    "NC056 \n",
    "NVb84 \n",
    "NVb99 \n",
    "NVg5 \n",
    "WV17)\n",
    "\n",
    "file=${files[$SLURM_ARRAY_TASK_ID]}\n"
   ]
  },
  {
   "cell_type": "code",
   "execution_count": null,
   "metadata": {},
   "outputs": [],
   "source": [
    "#00 set up directories\n",
    "cd ./maf55\n",
    "mkdir ${file}\n"
   ]
  },
  {
   "cell_type": "code",
   "execution_count": null,
   "metadata": {},
   "outputs": [],
   "source": [
    "#01 Create vcfs for each individual\n",
    "bcftools view -Oz -o ./${file}/${file}.maf55.vcf.gz -s ${file} -q 0.55 renamed_Uamer.ann.vcf.gz \n"
   ]
  },
  {
   "cell_type": "code",
   "execution_count": null,
   "metadata": {},
   "outputs": [],
   "source": [
    "#02 Create filtered bedfiles for each individual from annotations\n",
    "#pull out scaffold name, start position, create end position, and include annotation field as unique ID for variants of interest \n",
    "bcftools view -H ./${file}/${file}.maf55.vcf.gz | grep frameshift_variant | awk 'BEGIN {OFS=\"\\t\"} {print $1,$2,$2+1,$8}' > ./${file}/${file}.maf55_frameshift_variant.out\n",
    "bcftools view -H ./${file}/${file}.maf55.vcf.gz | grep missense_variant | awk 'BEGIN {OFS=\"\\t\"} {print $1,$2,$2+1,$8}' >./${file}/${file}.maf55_missense_variant.out\n",
    "bcftools view -H ./${file}/${file}.maf55.vcf.gz | grep initiator_codon_variant | awk 'BEGIN {OFS=\"\\t\"} {print $1,$2,$2+1,$8}' >./${file}/${file}.maf55_initiator_codon_variant.out\n",
    "bcftools view -H ./${file}/${file}.maf55.vcf.gz | grep stop_retained_variant | awk 'BEGIN {OFS=\"\\t\"} {print $1,$2,$2+1,$8}' >./${file}/${file}.maf55_stop_retained_variant.out\n",
    "bcftools view -H ./${file}/${file}.maf55.vcf.gz | grep rare_amino_acid_variant | awk 'BEGIN {OFS=\"\\t\"} {print $1,$2,$2+1,$8}' >./${file}/${file}.maf55_rare_amino_acid_variant.out\n",
    "bcftools view -H ./${file}/${file}.maf55.vcf.gz | grep splice_acceptor_variant | awk 'BEGIN {OFS=\"\\t\"} {print $1,$2,$2+1,$8}' >./${file}/${file}.maf55_splice_acceptor_variant.out\n",
    "bcftools view -H ./${file}/${file}.maf55.vcf.gz | grep splice_donor_variant | awk 'BEGIN {OFS=\"\\t\"} {print $1,$2,$2+1,$8}' >./${file}/${file}.maf55_splice_donor_variant.out\n",
    "bcftools view -H ./${file}/${file}.maf55.vcf.gz | grep stop_lost | awk 'BEGIN {OFS=\"\\t\"} {print $1,$2,$2+1,$8}' >./${file}/${file}.maf55_stop_lost.out\n",
    "bcftools view -H ./${file}/${file}.maf55.vcf.gz | grep 5_prime_UTR_premature | awk 'BEGIN {OFS=\"\\t\"} {print $1,$2,$2+1,$8}' >./${file}/${file}.maf55_5_prime_UTR_premature.out\n",
    "bcftools view -H ./${file}/${file}.maf55.vcf.gz | grep start_lost | awk 'BEGIN {OFS=\"\\t\"} {print $1,$2,$2+1,$8}' >./${file}/${file}.maf55_start_lost.out\n",
    "bcftools view -H ./${file}/${file}.maf55.vcf.gz | grep stop_gained | awk 'BEGIN {OFS=\"\\t\"} {print $1,$2,$2+1,$8}' >./${file}/${file}.maf55_stop_gained.out\n",
    "bcftools view -H ./${file}/${file}.maf55.vcf.gz | grep synonymous_variant | awk 'BEGIN {OFS=\"\\t\"} {print $1,$2,$2+1,$8}' >./${file}/${file}.maf55_synonymous_variant.out\n",
    "bcftools view -H ./${file}/${file}.maf55.vcf.gz | grep start_retained | awk 'BEGIN {OFS=\"\\t\"} {print $1,$2,$2+1,$8}' >./${file}/${file}.maf55_start_retained.out\n",
    "bcftools view -H ./${file}/${file}.maf55.vcf.gz | grep stop_retained_variant | awk 'BEGIN {OFS=\"\\t\"} {print $1,$2,$2+1,$8}' >./${file}/${file}.maf55_stop_retained_variant.out\n"
   ]
  },
  {
   "cell_type": "code",
   "execution_count": null,
   "metadata": {},
   "outputs": [],
   "source": [
    "#03 Concatenate individuals' variants into pseudo-bed file format\n",
    "#maf filtered\n",
    "cat ./${file}/${file}.maf55_frameshift_variant.out ./${file}/${file}.maf55_missense_variant.out ./${file}/${file}.maf55_initiator_codon_variant.out ./${file}/${file}.maf55_stop_retained_variant.out ./${file}/${file}.maf55_rare_amino_acid_variant.out ./${file}/${file}.maf55_splice_acceptor_variant.out ./${file}/${file}.maf55_splice_donor_variant.out ./${file}/${file}.maf55_stop_lost.out ./${file}/${file}.maf55_5_prime_UTR_premature.out ./${file}/${file}.maf55_start_lost.out ./${file}/${file}.maf55_stop_gained.out ./${file}/${file}.maf55_synonymous_variant.out ./${file}/${file}.maf55_start_retained.out ./${file}/${file}.maf55_stop_retained_variant.out > ./${file}/${file}.maf55_all_variants.out\n"
   ]
  },
  {
   "cell_type": "code",
   "execution_count": null,
   "metadata": {},
   "outputs": [],
   "source": [
    "#04 Remove duplicate lines & sort\n",
    "sort -u ./${file}/${file}.maf55_all_variants.out > ./${file}/${file}.maf55_allVar_dupRemoved.txt\n",
    "#count variants"
   ]
  },
  {
   "cell_type": "code",
   "execution_count": null,
   "metadata": {},
   "outputs": [],
   "source": [
    "#05 Use cactus to convert positions from NCBI assembly to DNAzoo assembly\n",
    "#module load cactus\n",
    "halLiftover /home/mdpllard/Cactus/heather_bears/steps-output/bears_alignment.hal Ursus_americanus_NCBI /home/hrclndnn/snpEff/Uamer/maf55/${file}/${file}.maf55_allVar_dupRemoved.txt Ursus_americanus_DNAZoo /home/hrclndnn/snpEff/Uamer/maf55/${file}/${file}.maf55_liftover.bed\n",
    "#remove duplicates\n",
    "cat ./${file}/${file}.maf55_liftover.bed | sort -k4,4 | uniq -u -f3 > ./${file}/${file}.maf55_liftover_noDups.bed\n",
    "\n"
   ]
  },
  {
   "cell_type": "code",
   "execution_count": null,
   "metadata": {},
   "outputs": [],
   "source": [
    "#06 remove all but scaffolds 2-37 for maf filtered:\n",
    "ls -l | grep 'HiC_scaffold_2[[:blank:]]' ./${file}/${file}.maf55_liftover_noDups.bed > ./${file}/${file}.maf55_scaffold2.bed\n",
    "ls -l | grep 'HiC_scaffold_3[[:blank:]]' ./${file}/${file}.maf55_liftover_noDups.bed > ./${file}/${file}.maf55_scaffold3.bed\n",
    "ls -l | grep 'HiC_scaffold_4[[:blank:]]' ./${file}/${file}.maf55_liftover_noDups.bed > ./${file}/${file}.maf55_scaffold4.bed\n",
    "ls -l | grep 'HiC_scaffold_5[[:blank:]]' ./${file}/${file}.maf55_liftover_noDups.bed > ./${file}/${file}.maf55_scaffold5.bed\n",
    "ls -l | grep 'HiC_scaffold_6[[:blank:]]' ./${file}/${file}.maf55_liftover_noDups.bed > ./${file}/${file}.maf55_scaffold6.bed\n",
    "ls -l | grep 'HiC_scaffold_7[[:blank:]]' ./${file}/${file}.maf55_liftover_noDups.bed > ./${file}/${file}.maf55_scaffold7.bed\n",
    "ls -l | grep 'HiC_scaffold_8[[:blank:]]' ./${file}/${file}.maf55_liftover_noDups.bed > ./${file}/${file}.maf55_scaffold8.bed\n",
    "ls -l | grep 'HiC_scaffold_9[[:blank:]]' ./${file}/${file}.maf55_liftover_noDups.bed > ./${file}/${file}.maf55_scaffold9.bed\n",
    "ls -l | grep 'HiC_scaffold_10[[:blank:]]' ./${file}/${file}.maf55_liftover_noDups.bed > ./${file}/${file}.maf55_scaffold10.bed\n",
    "ls -l | grep 'HiC_scaffold_11[[:blank:]]' ./${file}/${file}.maf55_liftover_noDups.bed > ./${file}/${file}.maf55_scaffold11.bed\n",
    "ls -l | grep 'HiC_scaffold_12[[:blank:]]' ./${file}/${file}.maf55_liftover_noDups.bed > ./${file}/${file}.maf55_scaffold12.bed\n",
    "ls -l | grep 'HiC_scaffold_13[[:blank:]]' ./${file}/${file}.maf55_liftover_noDups.bed > ./${file}/${file}.maf55_scaffold13.bed\n",
    "ls -l | grep 'HiC_scaffold_14[[:blank:]]' ./${file}/${file}.maf55_liftover_noDups.bed > ./${file}/${file}.maf55_scaffold14.bed\n",
    "ls -l | grep 'HiC_scaffold_15[[:blank:]]' ./${file}/${file}.maf55_liftover_noDups.bed > ./${file}/${file}.maf55_scaffold15.bed\n",
    "ls -l | grep 'HiC_scaffold_16[[:blank:]]' ./${file}/${file}.maf55_liftover_noDups.bed > ./${file}/${file}.maf55_scaffold16.bed\n",
    "ls -l | grep 'HiC_scaffold_17[[:blank:]]' ./${file}/${file}.maf55_liftover_noDups.bed > ./${file}/${file}.maf55_scaffold17.bed\n",
    "ls -l | grep 'HiC_scaffold_18[[:blank:]]' ./${file}/${file}.maf55_liftover_noDups.bed > ./${file}/${file}.maf55_scaffold18.bed\n",
    "ls -l | grep 'HiC_scaffold_19[[:blank:]]' ./${file}/${file}.maf55_liftover_noDups.bed > ./${file}/${file}.maf55_scaffold19.bed\n",
    "ls -l | grep 'HiC_scaffold_20[[:blank:]]' ./${file}/${file}.maf55_liftover_noDups.bed > ./${file}/${file}.maf55_scaffold20.bed\n",
    "ls -l | grep 'HiC_scaffold_21[[:blank:]]' ./${file}/${file}.maf55_liftover_noDups.bed > ./${file}/${file}.maf55_scaffold21.bed\n",
    "ls -l | grep 'HiC_scaffold_22[[:blank:]]' ./${file}/${file}.maf55_liftover_noDups.bed > ./${file}/${file}.maf55_scaffold22.bed\n",
    "ls -l | grep 'HiC_scaffold_23[[:blank:]]' ./${file}/${file}.maf55_liftover_noDups.bed > ./${file}/${file}.maf55_scaffold23.bed\n",
    "ls -l | grep 'HiC_scaffold_24[[:blank:]]' ./${file}/${file}.maf55_liftover_noDups.bed > ./${file}/${file}.maf55_scaffold24.bed\n",
    "ls -l | grep 'HiC_scaffold_25[[:blank:]]' ./${file}/${file}.maf55_liftover_noDups.bed > ./${file}/${file}.maf55_scaffold25.bed\n",
    "ls -l | grep 'HiC_scaffold_26[[:blank:]]' ./${file}/${file}.maf55_liftover_noDups.bed > ./${file}/${file}.maf55_scaffold26.bed\n",
    "ls -l | grep 'HiC_scaffold_27[[:blank:]]' ./${file}/${file}.maf55_liftover_noDups.bed > ./${file}/${file}.maf55_scaffold27.bed\n",
    "ls -l | grep 'HiC_scaffold_28[[:blank:]]' ./${file}/${file}.maf55_liftover_noDups.bed > ./${file}/${file}.maf55_scaffold28.bed\n",
    "ls -l | grep 'HiC_scaffold_29[[:blank:]]' ./${file}/${file}.maf55_liftover_noDups.bed > ./${file}/${file}.maf55_scaffold29.bed\n",
    "ls -l | grep 'HiC_scaffold_30[[:blank:]]' ./${file}/${file}.maf55_liftover_noDups.bed > ./${file}/${file}.maf55_scaffold30.bed\n",
    "ls -l | grep 'HiC_scaffold_31[[:blank:]]' ./${file}/${file}.maf55_liftover_noDups.bed > ./${file}/${file}.maf55_scaffold31.bed\n",
    "ls -l | grep 'HiC_scaffold_32[[:blank:]]' ./${file}/${file}.maf55_liftover_noDups.bed > ./${file}/${file}.maf55_scaffold32.bed\n",
    "ls -l | grep 'HiC_scaffold_33[[:blank:]]' ./${file}/${file}.maf55_liftover_noDups.bed > ./${file}/${file}.maf55_scaffold33.bed\n",
    "ls -l | grep 'HiC_scaffold_34[[:blank:]]' ./${file}/${file}.maf55_liftover_noDups.bed > ./${file}/${file}.maf55_scaffold34.bed\n",
    "ls -l | grep 'HiC_scaffold_35[[:blank:]]' ./${file}/${file}.maf55_liftover_noDups.bed > ./${file}/${file}.maf55_scaffold35.bed\n",
    "ls -l | grep 'HiC_scaffold_36[[:blank:]]' ./${file}/${file}.maf55_liftover_noDups.bed > ./${file}/${file}.maf55_scaffold36.bed\n",
    "ls -l | grep 'HiC_scaffold_37[[:blank:]]' ./${file}/${file}.maf55_liftover_noDups.bed > ./${file}/${file}.maf55_scaffold37.bed"
   ]
  },
  {
   "cell_type": "code",
   "execution_count": null,
   "metadata": {},
   "outputs": [],
   "source": [
    "#concatenate scaffolds into one bed file\n",
    "cat ./${file}/${file}.maf55_scaffold2.bed ./${file}/${file}.maf55_scaffold3.bed ./${file}/${file}.maf55_scaffold4.bed ./${file}/${file}.maf55_scaffold5.bed ./${file}/${file}.maf55_scaffold6.bed ./${file}/${file}.maf55_scaffold7.bed ./${file}/${file}.maf55_scaffold8.bed ./${file}/${file}.maf55_scaffold9.bed ./${file}/${file}.maf55_scaffold10.bed ./${file}/${file}.maf55_scaffold11.bed ./${file}/${file}.maf55_scaffold12.bed ./${file}/${file}.maf55_scaffold13.bed ./${file}/${file}.maf55_scaffold14.bed ./${file}/${file}.maf55_scaffold15.bed ./${file}/${file}.maf55_scaffold16.bed ./${file}/${file}.maf55_scaffold17.bed ./${file}/${file}.maf55_scaffold18.bed ./${file}/${file}.maf55_scaffold19.bed ./${file}/${file}.maf55_scaffold20.bed ./${file}/${file}.maf55_scaffold21.bed ./${file}/${file}.maf55_scaffold22.bed ./${file}/${file}.maf55_scaffold23.bed ./${file}/${file}.maf55_scaffold24.bed ./${file}/${file}.maf55_scaffold25.bed ./${file}/${file}.maf55_scaffold26.bed ./${file}/${file}.maf55_scaffold27.bed ./${file}/${file}.maf55_scaffold28.bed ./${file}/${file}.maf55_scaffold29.bed ./${file}/${file}.maf55_scaffold30.bed ./${file}/${file}.maf55_scaffold31.bed ./${file}/${file}.maf55_scaffold32.bed ./${file}/${file}.maf55_scaffold33.bed ./${file}/${file}.maf55_scaffold34.bed ./${file}/${file}.maf55_scaffold35.bed ./${file}/${file}.maf55_scaffold36.bed ./${file}/${file}.maf55_scaffold37.bed > ./${file}/${file}.maf55_scaffolds2-37.bed\n"
   ]
  },
  {
   "cell_type": "code",
   "execution_count": null,
   "metadata": {},
   "outputs": [],
   "source": [
    "#07 find intersection of bed files\n",
    "#output both where intersection occurs and variant annotation info\n",
    "#maf filtered\n",
    "bedtools intersect -wa -wb -a /home/hrclndnn/snpEff/Uamer/liftover/${file}/${file}_ROH.bed -b ./${file}/${file}.maf55_scaffolds2-37.bed > ./${file}/${file}.maf55_intersect_rohVar.txt\n"
   ]
  },
  {
   "cell_type": "markdown",
   "metadata": {},
   "source": [
    "As separate files:"
   ]
  },
  {
   "cell_type": "code",
   "execution_count": null,
   "metadata": {},
   "outputs": [],
   "source": [
    "files=\"AK17023 \n",
    "AK17047 \n",
    "AK17117 \n",
    "AZ12 \n",
    "gla7 \n",
    "ID10 \n",
    "LA366 \n",
    "LA371 \n",
    "LAT594 \n",
    "MI334 \n",
    "MI335 \n",
    "MN6083 \n",
    "MS3783 \n",
    "NC00417 \n",
    "NC056 \n",
    "NVb84 \n",
    "NVb99 \n",
    "NVg5 \n",
    "WV17\"\n",
    "\n",
    "for file in $files \n",
    "do\n",
    "\n",
    "echo ./${file}/${file}\n",
    "\n",
    "grep -o 'frameshift_variant' ./${file}/${file}.maf55_scaffolds2-37.bed | wc -l\n",
    "grep -o 'missense_variant' ./${file}/${file}.maf55_scaffolds2-37.bed | wc -l\n",
    "grep -o 'initiator_codon_variant' ./${file}/${file}.maf55_scaffolds2-37.bed | wc -l\n",
    "grep -o 'stop_retained_variant' ./${file}/${file}.maf55_scaffolds2-37.bed | wc -l\n",
    "grep -o 'rare_amino_acid_variant' ./${file}/${file}.maf55_scaffolds2-37.bed | wc -l\n",
    "grep -o 'splice_acceptor_variant' ./${file}/${file}.maf55_scaffolds2-37.bed | wc -l\n",
    "grep -o 'splice_donor_variant' ./${file}/${file}.maf55_scaffolds2-37.bed | wc -l\n",
    "grep -o 'stop_lost' ./${file}/${file}.maf55_scaffolds2-37.bed | wc -l\n",
    "grep -o '5_prime_UTR_premature' ./${file}/${file}.maf55_scaffolds2-37.bed | wc -l\n",
    "grep -o 'start_lost' ./${file}/${file}.maf55_scaffolds2-37.bed | wc -l\n",
    "grep -o 'stop_gained' ./${file}/${file}.maf55_scaffolds2-37.bed | wc -l\n",
    "grep -o 'synonymous_variant' ./${file}/${file}.maf55_scaffolds2-37.bed | wc -l\n",
    "grep -o 'start_retained' ./${file}/${file}.maf55_scaffolds2-37.bed | wc -l\n",
    "grep -o 'stop_retained_variant' ./${file}/${file}.maf55_scaffolds2-37.bed | wc -l\n",
    "\n",
    "done"
   ]
  },
  {
   "cell_type": "code",
   "execution_count": null,
   "metadata": {},
   "outputs": [],
   "source": [
    "files=\"AK17023 \n",
    "AK17047 \n",
    "AK17117 \n",
    "AZ12 \n",
    "gla7 \n",
    "ID10 \n",
    "LA366 \n",
    "LA371 \n",
    "LAT594 \n",
    "MI334 \n",
    "MI335 \n",
    "MN6083 \n",
    "MS3783 \n",
    "NC00417 \n",
    "NC056 \n",
    "NVb84 \n",
    "NVb99 \n",
    "NVg5 \n",
    "WV17\"\n",
    "\n",
    "for file in $files \n",
    "do\n",
    "\n",
    "echo ./${file}/${file}\n",
    "\n",
    "grep -o 'frameshift_variant' ./${file}/${file}.maf55_intersect_rohVar.txt | wc -l\n",
    "grep -o 'missense_variant' ./${file}/${file}.maf55_intersect_rohVar.txt | wc -l\n",
    "grep -o 'initiator_codon_variant' ./${file}/${file}.maf55_intersect_rohVar.txt | wc -l\n",
    "grep -o 'stop_retained_variant' ./${file}/${file}.maf55_intersect_rohVar.txt | wc -l\n",
    "grep -o 'rare_amino_acid_variant' ./${file}/${file}.maf55_intersect_rohVar.txt | wc -l\n",
    "grep -o 'splice_acceptor_variant' ./${file}/${file}.maf55_intersect_rohVar.txt | wc -l\n",
    "grep -o 'splice_donor_variant' ./${file}/${file}.maf55_intersect_rohVar.txt | wc -l\n",
    "grep -o 'stop_lost' ./${file}/${file}.maf55_intersect_rohVar.txt | wc -l\n",
    "grep -o '5_prime_UTR_premature' ./${file}/${file}.maf55_intersect_rohVar.txt | wc -l\n",
    "grep -o 'start_lost' ./${file}/${file}.maf55_intersect_rohVar.txt | wc -l\n",
    "grep -o 'stop_gained' ./${file}/${file}.maf55_intersect_rohVar.txt | wc -l\n",
    "grep -o 'synonymous_variant' ./${file}/${file}.maf55_intersect_rohVar.txt | wc -l\n",
    "grep -o 'start_retained' ./${file}/${file}.maf55_intersect_rohVar.txt | wc -l\n",
    "grep -o 'stop_retained_variant' ./${file}/${file}.maf55_intersect_rohVar.txt | wc -l\n",
    "done"
   ]
  },
  {
   "cell_type": "code",
   "execution_count": null,
   "metadata": {},
   "outputs": [],
   "source": [
    "frameshift_variant\n",
    "missense_variant\n",
    "initiator_codon_variant\n",
    "stop_retained_variant\n",
    "rare_amino_acid_variant\n",
    "splice_acceptor_variant\n",
    "splice_donor_variant\n",
    "stop_lost\n",
    "5_prime_UTR_premature\n",
    "start_lost\n",
    "stop_gained\n",
    "synonymous_variant\n",
    "start_retained\n",
    "stop_retained_variant\n"
   ]
  }
 ],
 "metadata": {
  "kernelspec": {
   "display_name": "Python 3 (ipykernel)",
   "language": "python",
   "name": "python3"
  },
  "language_info": {
   "codemirror_mode": {
    "name": "ipython",
    "version": 3
   },
   "file_extension": ".py",
   "mimetype": "text/x-python",
   "name": "python",
   "nbconvert_exporter": "python",
   "pygments_lexer": "ipython3",
   "version": "3.11.4"
  }
 },
 "nbformat": 4,
 "nbformat_minor": 4
}
