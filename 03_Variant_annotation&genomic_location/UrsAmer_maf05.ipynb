{
 "cells": [
  {
   "cell_type": "code",
   "execution_count": null,
   "metadata": {},
   "outputs": [],
   "source": [
    "#!/bin/bash\n",
    "#SBATCH -N 1 # number of nodes\n",
    "#SBATCH -n 16 # number of cores\n",
    "#SBATCH --mem=48G\n",
    "#SBATCH --job-name=\"maf05_TotalVar\"\n",
    "#SBATCH --mail-type=END\n",
    "#SBATCH --partition=computeq\n",
    "#SBATCH --mail-user=hrclndnn@memphis.edu\n",
    "#SBATCH -a 0-30\n",
    "\n",
    "module load bcftools\n",
    "module load bedtools\n",
    "module load cactus\n",
    "module load htslib\n",
    "module load gatk\n",
    "\n",
    "#SnpEff annotated vcf: /home/hrclndnn/snpEff/Uamer/Uamer.ann.vcf.gz\n",
    "#formatted ROH bed files: /home/hrclndnn/snpEff/Uamer/liftover/${file}/${file}_ROH.bed\n",
    "\n",
    "\n",
    "files=(AK17023 \n",
    "AK17047 \n",
    "AK17117 \n",
    "AZ12 \n",
    "AK18242 \n",
    "ID10 \n",
    "LA366 \n",
    "LA371 \n",
    "LAT594 \n",
    "MI334 \n",
    "MI335 \n",
    "MN6083 \n",
    "MS3783 \n",
    "NC00417 \n",
    "NC056 \n",
    "NVb84 \n",
    "NVb99 \n",
    "NVg5 \n",
    "WV17)\n",
    "\n",
    "file=${files[$SLURM_ARRAY_TASK_ID]}\n"
   ]
  },
  {
   "cell_type": "code",
   "execution_count": null,
   "metadata": {},
   "outputs": [],
   "source": [
    "#00 set up directories\n",
    "#mkdir maf05\n",
    "#cd ./maf05\n",
    "mkdir ${file}\n"
   ]
  },
  {
   "cell_type": "code",
   "execution_count": null,
   "metadata": {},
   "outputs": [],
   "source": [
    "#01 Create vcfs for each individual\n",
    "bcftools view -Oz -o ./${file}/${file}.maf05.vcf.gz -s ${file} -q 0.05 /home/hrclndnn/snpEff/Uamer/liftover/renamed_Uamer.ann.vcf.gz  \n"
   ]
  },
  {
   "cell_type": "code",
   "execution_count": null,
   "metadata": {},
   "outputs": [],
   "source": [
    "gatk IndexFeatureFile -I /${file}/${file}.maf05.vcf.gz\n",
    "gatk CountVariants -V $/${file}/${file}.maf05.vcf.gz > ${file}_TotalVar.txt"
   ]
  },
  {
   "cell_type": "code",
   "execution_count": null,
   "metadata": {},
   "outputs": [],
   "source": [
    "#16261479"
   ]
  }
 ],
 "metadata": {
  "kernelspec": {
   "display_name": "Python 3 (ipykernel)",
   "language": "python",
   "name": "python3"
  },
  "language_info": {
   "codemirror_mode": {
    "name": "ipython",
    "version": 3
   },
   "file_extension": ".py",
   "mimetype": "text/x-python",
   "name": "python",
   "nbconvert_exporter": "python",
   "pygments_lexer": "ipython3",
   "version": "3.11.4"
  }
 },
 "nbformat": 4,
 "nbformat_minor": 4
}
